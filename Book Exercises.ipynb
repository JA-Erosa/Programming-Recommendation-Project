{
 "cells": [
  {
   "cell_type": "markdown",
   "metadata": {},
   "source": [
    "## Create a basic Recommender System using Similarity Metrics.\n",
    "### Recommended lecture: Segaran, Toby. Programming Collective Intelligence.\n",
    "\n",
    "##### factorizacion de matrices svm o basada en user to user\n",
    "##### optimizar con numpy en lugar de iterar mucho\n",
    "\n",
    "Lunes, Martes y Miercoles se queda el profesor en la sala de maestros\n"
   ]
  },
  {
   "cell_type": "markdown",
   "metadata": {},
   "source": [
    "### For attributing/citing\n",
    "##### “Programming Collective Intelligenceby Toby Segaran. Copyright 2007 Toby Segaran, 978-0-596-52932-1.”"
   ]
  },
  {
   "cell_type": "code",
   "execution_count": 1,
   "metadata": {},
   "outputs": [
    {
     "data": {
      "text/plain": [
       "2.5"
      ]
     },
     "execution_count": 1,
     "metadata": {},
     "output_type": "execute_result"
    }
   ],
   "source": [
    "import dictionary as d\n",
    "d.critics['Lisa Rose']['Lady in the Water']"
   ]
  },
  {
   "cell_type": "code",
   "execution_count": 2,
   "metadata": {},
   "outputs": [],
   "source": [
    "d.critics['Toby']['Snakes on a Plane']=4.5"
   ]
  },
  {
   "cell_type": "code",
   "execution_count": 3,
   "metadata": {},
   "outputs": [
    {
     "data": {
      "text/plain": [
       "{'Snakes on a Plane': 4.5, 'You, Me and Dupree': 1.0, 'Superman Returns': 4.0}"
      ]
     },
     "execution_count": 3,
     "metadata": {},
     "output_type": "execute_result"
    }
   ],
   "source": [
    "d.critics['Toby']"
   ]
  },
  {
   "cell_type": "code",
   "execution_count": 4,
   "metadata": {},
   "outputs": [
    {
     "data": {
      "text/plain": [
       "3.1622776601683795"
      ]
     },
     "execution_count": 4,
     "metadata": {},
     "output_type": "execute_result"
    }
   ],
   "source": [
    "from math import sqrt\n",
    "sqrt(pow(5-4,2)+pow(4-1,2))"
   ]
  },
  {
   "cell_type": "code",
   "execution_count": 5,
   "metadata": {},
   "outputs": [
    {
     "data": {
      "text/plain": [
       "0.2402530733520421"
      ]
     },
     "execution_count": 5,
     "metadata": {},
     "output_type": "execute_result"
    }
   ],
   "source": [
    "1/(1+sqrt(pow(5-4,2)+pow(4-1,2)))"
   ]
  },
  {
   "cell_type": "code",
   "execution_count": 6,
   "metadata": {},
   "outputs": [
    {
     "data": {
      "text/plain": [
       "0.14814814814814814"
      ]
     },
     "execution_count": 6,
     "metadata": {},
     "output_type": "execute_result"
    }
   ],
   "source": [
    "#euclidean distance (0-1)\n",
    "d.sim_distance(d.critics,'Lisa Rose','Gene Seymour')"
   ]
  },
  {
   "cell_type": "code",
   "execution_count": 7,
   "metadata": {},
   "outputs": [
    {
     "name": "stdout",
     "output_type": "stream",
     "text": [
      "0.4444444444444444\n",
      "0.2857142857142857\n",
      "0.3333333333333333\n",
      "0.21052631578947367\n",
      "0.2222222222222222\n"
     ]
    }
   ],
   "source": [
    "print(d.sim_distance(d.critics,'Lisa Rose','Michael Phillips'))\n",
    "print(d.sim_distance(d.critics,'Lisa Rose','Claudia Puig'))\n",
    "print(d.sim_distance(d.critics,'Lisa Rose','Mick LaSalle'))\n",
    "print(d.sim_distance(d.critics,'Lisa Rose','Jack Matthews'))\n",
    "print(d.sim_distance(d.critics,'Lisa Rose','Toby'))"
   ]
  },
  {
   "cell_type": "code",
   "execution_count": 8,
   "metadata": {},
   "outputs": [
    {
     "name": "stdout",
     "output_type": "stream",
     "text": [
      "0.39605901719066977\n"
     ]
    }
   ],
   "source": [
    "#Pearson r (-1 - 1)\n",
    "print (d.sim_pearson(d.critics,'Lisa Rose','Gene Seymour'))"
   ]
  },
  {
   "cell_type": "code",
   "execution_count": 15,
   "metadata": {},
   "outputs": [
    {
     "data": {
      "text/plain": [
       "[(0.9912407071619299, 'Lisa Rose'),\n",
       " (0.9244734516419049, 'Mick LaSalle'),\n",
       " (0.8934051474415647, 'Claudia Puig'),\n",
       " (0.66284898035987, 'Jack Matthews'),\n",
       " (0.38124642583151164, 'Gene Seymour'),\n",
       " (-1.0, 'Michael Phillips')]"
      ]
     },
     "execution_count": 15,
     "metadata": {},
     "output_type": "execute_result"
    }
   ],
   "source": [
    "#Top critics matches delimited by n\n",
    "d.topMatches(d.critics, 'Toby', n=6)"
   ]
  },
  {
   "cell_type": "code",
   "execution_count": 16,
   "metadata": {},
   "outputs": [
    {
     "data": {
      "text/plain": [
       "[(3.3477895267131017, 'The Night Listener'),\n",
       " (2.8325499182641614, 'Lady in the Water'),\n",
       " (2.530980703765565, 'Just My Luck')]"
      ]
     },
     "execution_count": 16,
     "metadata": {},
     "output_type": "execute_result"
    }
   ],
   "source": [
    "#Recommendations using pearson\n",
    "d.getRecommendations(d.critics,'Toby')"
   ]
  },
  {
   "cell_type": "code",
   "execution_count": 17,
   "metadata": {},
   "outputs": [
    {
     "data": {
      "text/plain": [
       "[(3.5002478401415877, 'The Night Listener'),\n",
       " (2.7561242939959363, 'Lady in the Water'),\n",
       " (2.461988486074374, 'Just My Luck')]"
      ]
     },
     "execution_count": 17,
     "metadata": {},
     "output_type": "execute_result"
    }
   ],
   "source": [
    "#Recommendations using euclidean\n",
    "d.getRecommendations(d.critics, 'Toby', similarity=d.sim_distance)"
   ]
  },
  {
   "cell_type": "code",
   "execution_count": 29,
   "metadata": {},
   "outputs": [
    {
     "data": {
      "text/plain": [
       "[(2.602209944751381, 'Just My Luck'),\n",
       " (2.4095373283204173, 'You, Me and Dupree')]"
      ]
     },
     "execution_count": 29,
     "metadata": {},
     "output_type": "execute_result"
    }
   ],
   "source": [
    "d.getRecommendations(d.critics,'Michael Phillips',similarity=d.sim_distance)"
   ]
  },
  {
   "cell_type": "code",
   "execution_count": null,
   "metadata": {},
   "outputs": [],
   "source": []
  }
 ],
 "metadata": {
  "kernelspec": {
   "display_name": "Python 3",
   "language": "python",
   "name": "python3"
  },
  "language_info": {
   "codemirror_mode": {
    "name": "ipython",
    "version": 3
   },
   "file_extension": ".py",
   "mimetype": "text/x-python",
   "name": "python",
   "nbconvert_exporter": "python",
   "pygments_lexer": "ipython3",
   "version": "3.7.4"
  }
 },
 "nbformat": 4,
 "nbformat_minor": 2
}
